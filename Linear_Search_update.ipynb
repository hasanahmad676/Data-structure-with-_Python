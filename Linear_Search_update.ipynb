{
  "nbformat": 4,
  "nbformat_minor": 0,
  "metadata": {
    "colab": {
      "provenance": [],
      "authorship_tag": "ABX9TyOE5OyXbzeCGjk6hi+t2c3X",
      "include_colab_link": true
    },
    "kernelspec": {
      "name": "python3",
      "display_name": "Python 3"
    },
    "language_info": {
      "name": "python"
    }
  },
  "cells": [
    {
      "cell_type": "markdown",
      "metadata": {
        "id": "view-in-github",
        "colab_type": "text"
      },
      "source": [
        "<a href=\"https://colab.research.google.com/github/hasanahmad676/Data-structure-with-_Python/blob/main/Linear_Search_update.ipynb\" target=\"_parent\"><img src=\"https://colab.research.google.com/assets/colab-badge.svg\" alt=\"Open In Colab\"/></a>"
      ]
    },
    {
      "cell_type": "code",
      "execution_count": 6,
      "metadata": {
        "colab": {
          "base_uri": "https://localhost:8080/"
        },
        "id": "-dP9phmNPbJy",
        "outputId": "8b80623b-7fdb-425a-ca2b-7f8b6c45c073"
      },
      "outputs": [
        {
          "output_type": "stream",
          "name": "stdout",
          "text": [
            "the element 5  is found is at index 4\n",
            "None\n"
          ]
        }
      ],
      "source": [
        "def linear_search(list1,ele):\n",
        "  for i in range(len(list1)):\n",
        "    if list1[i]==ele:\n",
        "      print(\"the element\",ele,\" is found is at index\",i)\n",
        "      break\n",
        "  else:\n",
        "    print(\"element is not found\")\n",
        "\n",
        "\n",
        "list1=[1,2,3,4,5,6,7,8,9]\n",
        "ele=5\n",
        "found=linear_search(list1,ele)\n",
        "print(found)"
      ]
    },
    {
      "cell_type": "code",
      "source": [
        "\n",
        "def linear_search(l,ele):\n",
        "  for i in range(len(l)):\n",
        "    if l[i]==ele:\n",
        "      print(\"the element\",ele,\" is found is at index\",i)\n",
        "      break\n",
        "  else:\n",
        "     print(\"element is not found\")\n",
        "\n",
        "l=list()\n",
        "n=int(input(\"enter the range of inserted number: \"))\n",
        "for i in range(n):\n",
        "    element=int(input(\"eneter all the number here: \"))\n",
        "    l.append(element)\n",
        "    print(l)\n",
        "# print(\"enter all the numner: \",l)\n",
        "ele=int(input(\"ënter the number you want to find: \"))\n",
        "\n",
        "found=linear_search(l,ele)\n",
        "print(found)\n"
      ],
      "metadata": {
        "colab": {
          "base_uri": "https://localhost:8080/"
        },
        "id": "xNyahI-FQ48r",
        "outputId": "de8974ec-7c3f-4afb-f54d-06e1c862fef5"
      },
      "execution_count": 13,
      "outputs": [
        {
          "output_type": "stream",
          "name": "stdout",
          "text": [
            "enter the range of inserted number: 4\n",
            "eneter all the number here: 11\n",
            "[11]\n",
            "eneter all the number here: 12\n",
            "[11, 12]\n",
            "eneter all the number here: 13\n",
            "[11, 12, 13]\n",
            "eneter all the number here: 14\n",
            "[11, 12, 13, 14]\n",
            "ënter the number you want to find: 13\n",
            "the element 13  is found is at index 2\n",
            "None\n"
          ]
        }
      ]
    },
    {
      "cell_type": "code",
      "source": [
        "def linear_search(data, key, index=0):\n",
        "    if index >= len(data):\n",
        "        return -1  # Base case: element not found\n",
        "\n",
        "    if data[index] == key:\n",
        "        return index  # Base case: element found at current index\n",
        "\n",
        "    # Recursive call with the next index\n",
        "    return linear_search(data, key, index + 1)\n",
        "\n",
        "data = [11, 12, 13, 14, 15, 16]\n",
        "key = 13\n",
        "result = linear_search(data, key)\n",
        "\n",
        "if result != -1:\n",
        "    print(f\"Element {key} is found at index {result}.\")\n",
        "else:\n",
        "    print(f\"Element {key} is not found in the list.\")\n"
      ],
      "metadata": {
        "colab": {
          "base_uri": "https://localhost:8080/"
        },
        "id": "n0PZAWt4Y3Eo",
        "outputId": "1cf4173d-6205-459b-a270-91dd93d8cbff"
      },
      "execution_count": 17,
      "outputs": [
        {
          "output_type": "stream",
          "name": "stdout",
          "text": [
            "Element 13 is found at index 2.\n"
          ]
        }
      ]
    },
    {
      "cell_type": "code",
      "source": [],
      "metadata": {
        "id": "JxD67GDMZtA-"
      },
      "execution_count": null,
      "outputs": []
    }
  ]
}