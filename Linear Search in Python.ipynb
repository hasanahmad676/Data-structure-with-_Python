{
 "cells": [
  {
   "cell_type": "code",
   "execution_count": 11,
   "id": "a9073dec",
   "metadata": {},
   "outputs": [
    {
     "name": "stdout",
     "output_type": "stream",
     "text": [
      "Target element 6 found at index 1.\n"
     ]
    }
   ],
   "source": [
    "def linear_search(array, target):\n",
    "    size=len(array)\n",
    "    for i in range(size):\n",
    "        if array[i] == target:\n",
    "            return 1  # Found the target element\n",
    "    return -1  # Target element not found in the array\n",
    "# Example usage:\n",
    "arr = [4, 2, 6, 1, 7, 5]\n",
    "target = 6\n",
    "index = linear_search(arr, target)\n",
    "if index != -1:\n",
    "    print(f\"Target element {target} found at index {index}.\")\n",
    "else:\n",
    "    print(\"Target element not found in the array.\")\n",
    "    "
   ]
  },
  {
   "cell_type": "markdown",
   "id": "9d22d22d",
   "metadata": {},
   "source": []
  },
  {
   "cell_type": "code",
   "execution_count": 12,
   "id": "8bd208b2",
   "metadata": {},
   "outputs": [
    {
     "name": "stdout",
     "output_type": "stream",
     "text": [
      "Target element not found in the array.\n"
     ]
    }
   ],
   "source": [
    "def linear_search(array, target):\n",
    "    size = len(array)\n",
    "    for i in range(size):\n",
    "        if array[i] == target:\n",
    "            return i  # Return the index of the target element\n",
    "    return -1  # Target element not found in the array\n",
    "\n",
    "# Example usage:\n",
    "arr = [4, 2, 6, 1, 7, 5]\n",
    "target = 9\n",
    "index = linear_search(arr, target)\n",
    "if index != -1:\n",
    "    print(f\"Target element {target} found at index {index}.\")\n",
    "else:\n",
    "    print(\"Target element not found in the array.\")\n"
   ]
  },
  {
   "cell_type": "code",
   "execution_count": null,
   "id": "e83d79f5",
   "metadata": {},
   "outputs": [],
   "source": []
  },
  {
   "cell_type": "code",
   "execution_count": null,
   "id": "1ef61097",
   "metadata": {},
   "outputs": [],
   "source": []
  },
  {
   "cell_type": "code",
   "execution_count": null,
   "id": "1c95bc6b",
   "metadata": {},
   "outputs": [],
   "source": []
  },
  {
   "cell_type": "code",
   "execution_count": null,
   "id": "140456e6",
   "metadata": {},
   "outputs": [],
   "source": []
  },
  {
   "cell_type": "code",
   "execution_count": null,
   "id": "7b8a515e",
   "metadata": {},
   "outputs": [],
   "source": []
  },
  {
   "cell_type": "code",
   "execution_count": null,
   "id": "85402b7e",
   "metadata": {},
   "outputs": [],
   "source": []
  },
  {
   "cell_type": "code",
   "execution_count": null,
   "id": "1f0cbb86",
   "metadata": {},
   "outputs": [],
   "source": []
  }
 ],
 "metadata": {
  "kernelspec": {
   "display_name": "Python 3 (ipykernel)",
   "language": "python",
   "name": "python3"
  },
  "language_info": {
   "codemirror_mode": {
    "name": "ipython",
    "version": 3
   },
   "file_extension": ".py",
   "mimetype": "text/x-python",
   "name": "python",
   "nbconvert_exporter": "python",
   "pygments_lexer": "ipython3",
   "version": "3.9.13"
  }
 },
 "nbformat": 4,
 "nbformat_minor": 5
}
