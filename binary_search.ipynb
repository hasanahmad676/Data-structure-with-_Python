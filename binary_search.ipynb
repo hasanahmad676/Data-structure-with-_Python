{
  "nbformat": 4,
  "nbformat_minor": 0,
  "metadata": {
    "colab": {
      "provenance": [],
      "authorship_tag": "ABX9TyMQaCIbNmEGnczj2SsL16w2",
      "include_colab_link": true
    },
    "kernelspec": {
      "name": "python3",
      "display_name": "Python 3"
    },
    "language_info": {
      "name": "python"
    }
  },
  "cells": [
    {
      "cell_type": "markdown",
      "metadata": {
        "id": "view-in-github",
        "colab_type": "text"
      },
      "source": [
        "<a href=\"https://colab.research.google.com/github/hasanahmad676/Data-structure-with-_Python/blob/main/binary_search.ipynb\" target=\"_parent\"><img src=\"https://colab.research.google.com/assets/colab-badge.svg\" alt=\"Open In Colab\"/></a>"
      ]
    },
    {
      "cell_type": "code",
      "execution_count": 9,
      "metadata": {
        "colab": {
          "base_uri": "https://localhost:8080/"
        },
        "id": "-fPMj2ydaqsT",
        "outputId": "ad9f705a-404e-4318-a083-19455e1990d1"
      },
      "outputs": [
        {
          "output_type": "stream",
          "name": "stdout",
          "text": [
            "The number is found at index 4\n",
            "The number is not found.\n",
            "None\n"
          ]
        }
      ],
      "source": [
        "def binary_search(list1, key):\n",
        "    low = 0\n",
        "    high = len(list1) - 1\n",
        "\n",
        "    while low <= high:\n",
        "        mid = low + (high - low) // 2\n",
        "\n",
        "        if list1[mid] == key:\n",
        "            print(\"The number is found at index\", mid)\n",
        "            # return mid\n",
        "            break\n",
        "        elif list1[mid] < key:\n",
        "            low = mid + 1\n",
        "        else:\n",
        "            high = mid - 1\n",
        "\n",
        "    print(\"The number is not found.\")\n",
        "    # return -1\n",
        "\n",
        "list1 = [11, 12, 13, 14, 15, 16, 17, 18, 19]\n",
        "key = 15\n",
        "\n",
        "found = binary_search(list1, key)\n",
        "print(found)\n"
      ]
    },
    {
      "cell_type": "code",
      "source": [
        "def binary_search(list1, key):\n",
        "    low = 0\n",
        "    high = len(list1) - 1\n",
        "\n",
        "    while low <= high:\n",
        "        mid = (low + high) // 2\n",
        "\n",
        "        if list1[mid] == key:\n",
        "            return mid  # Return the index when the element is found\n",
        "        elif list1[mid] < key:\n",
        "            low = mid + 1\n",
        "        else:\n",
        "            high = mid - 1\n",
        "\n",
        "    return -1  # Return -1 when the element is not found\n",
        "\n",
        "list1 = [11, 12, 13, 14, 15, 16, 17, 18, 19]\n",
        "key = 15\n",
        "\n",
        "found = binary_search(list1, key)\n",
        "\n",
        "if found != -1:\n",
        "    print(\"The number is found at index\", found)\n",
        "else:\n",
        "    print(\"The number is not found in the list.\")\n"
      ],
      "metadata": {
        "colab": {
          "base_uri": "https://localhost:8080/"
        },
        "id": "QEVpxQ7id2uo",
        "outputId": "308be099-74d5-4bdf-cb7b-eb6efff5641e"
      },
      "execution_count": 10,
      "outputs": [
        {
          "output_type": "stream",
          "name": "stdout",
          "text": [
            "The number is found at index 4\n"
          ]
        }
      ]
    },
    {
      "cell_type": "code",
      "source": [
        "def binary_search(l, ele):\n",
        "    low = 0\n",
        "    high = len(l) - 1\n",
        "\n",
        "    while low <= high:\n",
        "        mid = low + (high - low) // 2\n",
        "\n",
        "        if l[mid] == ele:\n",
        "            return mid\n",
        "        elif l[mid] < ele:\n",
        "            low = mid + 1\n",
        "        else:\n",
        "            high = mid - 1\n",
        "\n",
        "    return -1\n",
        "\n",
        "l = list()\n",
        "n = int(input(\"Enter the range of inserted number: \"))\n",
        "for i in range(n):\n",
        "    element = int(input(\"Enter all the number here: \"))\n",
        "    l.append(element)\n",
        "    print(l)\n",
        "\n",
        "l.sort()  # Ensure the list is sorted for binary search\n",
        "print(\"this is sorted data\")\n",
        "print(l)\n",
        "ele = int(input(\"Enter the number you want to find: \"))\n",
        "\n",
        "found = binary_search(l, ele)\n",
        "if found != -1:\n",
        "    print(f\"The element {ele} is found at index {found}.\")\n",
        "else:\n",
        "    print(f\"The element {ele} is not found in the list.\")\n"
      ],
      "metadata": {
        "colab": {
          "base_uri": "https://localhost:8080/"
        },
        "id": "vGfwr_dfgoT4",
        "outputId": "fdad1854-1883-4537-ee43-ea432ed5c892"
      },
      "execution_count": 15,
      "outputs": [
        {
          "output_type": "stream",
          "name": "stdout",
          "text": [
            "Enter the range of inserted number: 6\n",
            "Enter all the number here: 19\n",
            "[19]\n",
            "Enter all the number here: 17\n",
            "[19, 17]\n",
            "Enter all the number here: 18\n",
            "[19, 17, 18]\n",
            "Enter all the number here: 14\n",
            "[19, 17, 18, 14]\n",
            "Enter all the number here: 15\n",
            "[19, 17, 18, 14, 15]\n",
            "Enter all the number here: 11\n",
            "[19, 17, 18, 14, 15, 11]\n",
            "this is sorted data\n",
            "[11, 14, 15, 17, 18, 19]\n",
            "Enter the number you want to find: 18\n",
            "The element 18 is found at index 4.\n"
          ]
        }
      ]
    },
    {
      "cell_type": "code",
      "source": [
        "13"
      ],
      "metadata": {
        "id": "wdyWTDRHgoWr"
      },
      "execution_count": null,
      "outputs": []
    },
    {
      "cell_type": "code",
      "source": [],
      "metadata": {
        "id": "UANbCFVcgoZZ"
      },
      "execution_count": null,
      "outputs": []
    },
    {
      "cell_type": "code",
      "source": [],
      "metadata": {
        "id": "Tr0YSZn6gob5"
      },
      "execution_count": null,
      "outputs": []
    },
    {
      "cell_type": "code",
      "source": [],
      "metadata": {
        "id": "WUx2a1rKgoeZ"
      },
      "execution_count": null,
      "outputs": []
    },
    {
      "cell_type": "code",
      "source": [],
      "metadata": {
        "id": "MiOryszSgohv"
      },
      "execution_count": null,
      "outputs": []
    }
  ]
}